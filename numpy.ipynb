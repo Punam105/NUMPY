{
  "nbformat": 4,
  "nbformat_minor": 0,
  "metadata": {
    "colab": {
      "provenance": [],
      "authorship_tag": "ABX9TyPzk2ZnV1cuj8FjfdBpw8ZL",
      "include_colab_link": true
    },
    "kernelspec": {
      "name": "python3",
      "display_name": "Python 3"
    },
    "language_info": {
      "name": "python"
    }
  },
  "cells": [
    {
      "cell_type": "markdown",
      "metadata": {
        "id": "view-in-github",
        "colab_type": "text"
      },
      "source": [
        "<a href=\"https://colab.research.google.com/github/Punam105/NUMPY/blob/main/numpy.ipynb\" target=\"_parent\"><img src=\"https://colab.research.google.com/assets/colab-badge.svg\" alt=\"Open In Colab\"/></a>"
      ]
    },
    {
      "cell_type": "code",
      "execution_count": 1,
      "metadata": {
        "id": "4FNBHIy4WYcb"
      },
      "outputs": [],
      "source": [
        "import numpy as np"
      ]
    },
    {
      "cell_type": "code",
      "source": [
        "a = np.array([1, 2, 3])\n",
        "print(\"1D Array:\", a)\n",
        "\n",
        "b = np.array([[1, 2], [3, 4],[10,12]])\n",
        "print(\"2D Array:\\n\", b)\n"
      ],
      "metadata": {
        "colab": {
          "base_uri": "https://localhost:8080/"
        },
        "id": "H7O6fnssWeEF",
        "outputId": "cbf1135d-b226-4461-b08d-b110dee52b8c"
      },
      "execution_count": 2,
      "outputs": [
        {
          "output_type": "stream",
          "name": "stdout",
          "text": [
            "1D Array: [1 2 3]\n",
            "2D Array:\n",
            " [[ 1  2]\n",
            " [ 3  4]\n",
            " [10 12]]\n"
          ]
        }
      ]
    },
    {
      "cell_type": "markdown",
      "source": [],
      "metadata": {
        "id": "hwPXw43AWhCv"
      }
    },
    {
      "cell_type": "code",
      "source": [
        "print(\"Shape:\", b.shape)\n",
        "print(\"Size:\", b.size)\n",
        "print(\"Datatype:\", b.dtype)\n"
      ],
      "metadata": {
        "colab": {
          "base_uri": "https://localhost:8080/"
        },
        "id": "o_AWlFU_WhXn",
        "outputId": "5801d0a2-b290-4493-e036-c620e650ea75"
      },
      "execution_count": 3,
      "outputs": [
        {
          "output_type": "stream",
          "name": "stdout",
          "text": [
            "Shape: (3, 2)\n",
            "Size: 6\n",
            "Datatype: int64\n"
          ]
        }
      ]
    },
    {
      "cell_type": "code",
      "source": [
        "zeros = np.zeros((2, 3))\n",
        "zeros"
      ],
      "metadata": {
        "colab": {
          "base_uri": "https://localhost:8080/"
        },
        "id": "7mqySE0gWmcW",
        "outputId": "79cea482-dd10-4cb9-d749-46fecfe2f051"
      },
      "execution_count": 4,
      "outputs": [
        {
          "output_type": "execute_result",
          "data": {
            "text/plain": [
              "array([[0., 0., 0.],\n",
              "       [0., 0., 0.]])"
            ]
          },
          "metadata": {},
          "execution_count": 4
        }
      ]
    },
    {
      "cell_type": "code",
      "source": [
        "ones = np.ones((2, 3))\n",
        "ones"
      ],
      "metadata": {
        "colab": {
          "base_uri": "https://localhost:8080/"
        },
        "id": "SQUVZHrgWxEk",
        "outputId": "c0cf4656-6cb4-4a5d-cb40-44ab9ce5561b"
      },
      "execution_count": 5,
      "outputs": [
        {
          "output_type": "execute_result",
          "data": {
            "text/plain": [
              "array([[1., 1., 1.],\n",
              "       [1., 1., 1.]])"
            ]
          },
          "metadata": {},
          "execution_count": 5
        }
      ]
    },
    {
      "cell_type": "code",
      "source": [
        "randoms = np.random.rand(2, 2)\n",
        "randoms"
      ],
      "metadata": {
        "colab": {
          "base_uri": "https://localhost:8080/"
        },
        "id": "z5gdqw_kXAHT",
        "outputId": "b7c61f85-fcf1-44fb-b073-c8ef25777b8e"
      },
      "execution_count": 6,
      "outputs": [
        {
          "output_type": "execute_result",
          "data": {
            "text/plain": [
              "array([[0.05208773, 0.32849322],\n",
              "       [0.99244745, 0.3448071 ]])"
            ]
          },
          "metadata": {},
          "execution_count": 6
        }
      ]
    },
    {
      "cell_type": "code",
      "source": [
        "range_array = np.arange(0, 10, 2)\n",
        "range_array"
      ],
      "metadata": {
        "colab": {
          "base_uri": "https://localhost:8080/"
        },
        "id": "n3Uugiq5XBt4",
        "outputId": "5e39b751-697d-4e71-cc38-89b574879a77"
      },
      "execution_count": 7,
      "outputs": [
        {
          "output_type": "execute_result",
          "data": {
            "text/plain": [
              "array([0, 2, 4, 6, 8])"
            ]
          },
          "metadata": {},
          "execution_count": 7
        }
      ]
    },
    {
      "cell_type": "code",
      "source": [
        "x = np.array([1, 2, 3])\n",
        "y = np.array([4, 5, 6])\n",
        "\n",
        "print(\"Addition:\", x + y)\n",
        "print(\"Multiplication:\", x * y)\n",
        "print(\"Dot Product:\", np.dot(x, y))\n"
      ],
      "metadata": {
        "colab": {
          "base_uri": "https://localhost:8080/"
        },
        "id": "oPbjDZ9wXJEf",
        "outputId": "646704c0-fb5c-4c19-e603-f90b67649953"
      },
      "execution_count": 8,
      "outputs": [
        {
          "output_type": "stream",
          "name": "stdout",
          "text": [
            "Addition: [5 7 9]\n",
            "Multiplication: [ 4 10 18]\n",
            "Dot Product: 32\n"
          ]
        }
      ]
    },
    {
      "cell_type": "code",
      "source": [
        "arr = np.array([10, 20, 30, 40, 50])\n",
        "\n",
        "print(arr[0])      # First element\n",
        "print(arr[1:4])    # Slice from index 1 to 3\n"
      ],
      "metadata": {
        "colab": {
          "base_uri": "https://localhost:8080/"
        },
        "id": "Ci3Gz8HAXWvs",
        "outputId": "0413edbe-705a-4c6f-d46d-7b330492ddeb"
      },
      "execution_count": 9,
      "outputs": [
        {
          "output_type": "stream",
          "name": "stdout",
          "text": [
            "10\n",
            "[20 30 40]\n"
          ]
        }
      ]
    },
    {
      "cell_type": "code",
      "source": [
        "a = np.array([1, 2, 3])\n",
        "b = np.array([[1, 2], [3, 4]])\n",
        "c = np.array([[[1], [2]], [[3], [4]]])\n",
        "\n",
        "print(\"1D:\", a)\n",
        "print(\"2D:\\n\", b)\n",
        "print(\"3D:\\n\", c)\n"
      ],
      "metadata": {
        "colab": {
          "base_uri": "https://localhost:8080/"
        },
        "id": "WkXGAMPyXf4F",
        "outputId": "1ed3958b-4b04-4635-e582-304d8252a9ff"
      },
      "execution_count": 10,
      "outputs": [
        {
          "output_type": "stream",
          "name": "stdout",
          "text": [
            "1D: [1 2 3]\n",
            "2D:\n",
            " [[1 2]\n",
            " [3 4]]\n",
            "3D:\n",
            " [[[1]\n",
            "  [2]]\n",
            "\n",
            " [[3]\n",
            "  [4]]]\n"
          ]
        }
      ]
    },
    {
      "cell_type": "code",
      "source": [
        "np.random.randint(1, 10, (2, 3))"
      ],
      "metadata": {
        "colab": {
          "base_uri": "https://localhost:8080/"
        },
        "id": "MXI3d8NPXkwY",
        "outputId": "3f3b8b29-a6e7-42c9-8466-a897972fb24b"
      },
      "execution_count": 11,
      "outputs": [
        {
          "output_type": "execute_result",
          "data": {
            "text/plain": [
              "array([[2, 9, 1],\n",
              "       [5, 1, 2]])"
            ]
          },
          "metadata": {},
          "execution_count": 11
        }
      ]
    },
    {
      "cell_type": "code",
      "source": [
        "arr = np.array([[1, 2, 3], [4, 5, 6]])\n",
        "print(\"Reshape to 3x2:\\n\", arr.reshape(3, 2))\n",
        "print(\"Flatten:\", arr.flatten())\n"
      ],
      "metadata": {
        "colab": {
          "base_uri": "https://localhost:8080/"
        },
        "id": "Ii2e9QTmXq0p",
        "outputId": "3d073281-712d-4fe0-dd76-90b7b79f4774"
      },
      "execution_count": 12,
      "outputs": [
        {
          "output_type": "stream",
          "name": "stdout",
          "text": [
            "Reshape to 3x2:\n",
            " [[1 2]\n",
            " [3 4]\n",
            " [5 6]]\n",
            "Flatten: [1 2 3 4 5 6]\n"
          ]
        }
      ]
    },
    {
      "cell_type": "code",
      "source": [
        "a = np.array([1, 2])\n",
        "b = np.array([3, 4])\n",
        "\n",
        "print(\"Vertical Stack:\\n\", np.vstack((a, b)))\n",
        "print(\"Horizontal Stack:\\n\", np.hstack((a, b)))\n"
      ],
      "metadata": {
        "colab": {
          "base_uri": "https://localhost:8080/"
        },
        "id": "oXhqDTusXtl_",
        "outputId": "a56658c3-dc3d-4086-d042-8874902f2ea7"
      },
      "execution_count": 13,
      "outputs": [
        {
          "output_type": "stream",
          "name": "stdout",
          "text": [
            "Vertical Stack:\n",
            " [[1 2]\n",
            " [3 4]]\n",
            "Horizontal Stack:\n",
            " [1 2 3 4]\n"
          ]
        }
      ]
    },
    {
      "cell_type": "code",
      "source": [
        "arr = np.array([10, 20, 30, 40, 50])\n",
        "print(\"Greater than 30:\", arr[arr > 30])\n"
      ],
      "metadata": {
        "colab": {
          "base_uri": "https://localhost:8080/"
        },
        "id": "5Q-ZIBWCXy-Q",
        "outputId": "b834844d-6720-4954-c04c-0266f9364ebc"
      },
      "execution_count": 14,
      "outputs": [
        {
          "output_type": "stream",
          "name": "stdout",
          "text": [
            "Greater than 30: [40 50]\n"
          ]
        }
      ]
    },
    {
      "cell_type": "code",
      "source": [
        "##Useful NumPy Functions"
      ],
      "metadata": {
        "id": "i8dMDM0uYAml"
      },
      "execution_count": 15,
      "outputs": []
    },
    {
      "cell_type": "code",
      "source": [
        "arr = np.array([[1, 2, 3], [4, 5, 6]])\n",
        "\n",
        "print(\"Sum:\", np.sum(arr))\n",
        "print(\"Max:\", np.max(arr))\n",
        "print(\"Mean:\", np.mean(arr))\n",
        "print(\"Std Dev:\", np.std(arr))\n",
        "print(\"Argmax:\", np.argmax(arr))\n"
      ],
      "metadata": {
        "colab": {
          "base_uri": "https://localhost:8080/"
        },
        "id": "UVnfzwkUYHxg",
        "outputId": "7e40a5fe-cfa6-4b9d-b189-b21d1a2d3b1c"
      },
      "execution_count": 16,
      "outputs": [
        {
          "output_type": "stream",
          "name": "stdout",
          "text": [
            "Sum: 21\n",
            "Max: 6\n",
            "Mean: 3.5\n",
            "Std Dev: 1.707825127659933\n",
            "Argmax: 5\n"
          ]
        }
      ]
    },
    {
      "cell_type": "code",
      "source": [
        "a = np.array([[1], [2], [3]])\n",
        "b = np.array([10, 20, 30])\n",
        "\n",
        "# Automatically expands shapes to match\n",
        "print(\"Broadcasted Addition:\\n\", a + b)"
      ],
      "metadata": {
        "colab": {
          "base_uri": "https://localhost:8080/"
        },
        "id": "SvyhNLTBYTpZ",
        "outputId": "ceaf1e32-6165-4df9-c19a-38ea06d5c83b"
      },
      "execution_count": 17,
      "outputs": [
        {
          "output_type": "stream",
          "name": "stdout",
          "text": [
            "Broadcasted Addition:\n",
            " [[11 21 31]\n",
            " [12 22 32]\n",
            " [13 23 33]]\n"
          ]
        }
      ]
    },
    {
      "cell_type": "code",
      "source": [
        "mat = np.arange(1, 10).reshape(3, 3)\n",
        "print(\"Matrix:\\n\", mat)\n",
        "print(\"Diagonal Sum:\", np.trace(mat))\n"
      ],
      "metadata": {
        "colab": {
          "base_uri": "https://localhost:8080/"
        },
        "id": "B6fVz0syYbcH",
        "outputId": "5024b7d1-37e1-432f-db36-7e878a23b6a9"
      },
      "execution_count": 18,
      "outputs": [
        {
          "output_type": "stream",
          "name": "stdout",
          "text": [
            "Matrix:\n",
            " [[1 2 3]\n",
            " [4 5 6]\n",
            " [7 8 9]]\n",
            "Diagonal Sum: 15\n"
          ]
        }
      ]
    },
    {
      "cell_type": "code",
      "source": [],
      "metadata": {
        "id": "HUzY8pv7YkK8"
      },
      "execution_count": null,
      "outputs": []
    }
  ]
}